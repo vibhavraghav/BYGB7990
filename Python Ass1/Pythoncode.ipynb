{
 "cells": [
  {
   "cell_type": "markdown",
   "metadata": {},
   "source": [
    "###  <font color=blue> Programming Project 3 Starter  </font>\n"
   ]
  },
  {
   "cell_type": "markdown",
   "metadata": {},
   "source": [
    "# Programming with Python  , Fall-2021, Programming Project 3, \n",
    "# Vibhav Raghav"
   ]
  },
  {
   "cell_type": "raw",
   "metadata": {},
   "source": []
  },
  {
   "cell_type": "code",
   "execution_count": 68,
   "metadata": {},
   "outputs": [],
   "source": [
    "import datetime"
   ]
  },
  {
   "cell_type": "markdown",
   "metadata": {},
   "source": [
    "# Q1 Answer:\n",
    "This program asks user to input an sequence of scores, each separated by a space.\n",
    "It then creates two lists of scores that are below average and above average"
   ]
  },
  {
   "cell_type": "code",
   "execution_count": 128,
   "metadata": {},
   "outputs": [
    {
     "name": "stdout",
     "output_type": "stream",
     "text": [
      "Please enter scores separated by a space : 98.5 79.7 91.4 76.0 89.5 94.0 87.2 77.0 86.5 77.7 98.8 83.5 79.9 68.8 71.0 84.5\n",
      "\n",
      "The list of scores is \t\t:  [98.5, 79.7, 91.4, 76.0, 89.5, 94.0, 87.2, 77.0, 86.5, 77.7, 98.8, 83.5, 79.9, 68.8, 71.0, 84.5]\n",
      "\n",
      "The total number of scores is \t :  16 and their average is 84.0\n",
      "\n",
      "Scores below average are \t\t :  [79.7, 76.0, 77.0, 77.7, 83.5, 79.9, 68.8, 71.0]\n",
      "\n",
      "Scores above or equal to average are \t :  [98.5, 91.4, 89.5, 94.0, 87.2, 86.5, 98.8, 84.5]\n",
      "\n",
      "\n",
      "---------------------------------------------------------------------------\n",
      "Finished execution at date 2021-11-18 14:08:10.218108\n"
     ]
    }
   ],
   "source": [
    "# Q1 Answer:\n",
    "\n",
    "\n",
    "# input 98.5 79.7 91.4 76.0 89.5 94.0 87.2 77.0 86.5 77.7 98.8 83.5 79.9 68.8 71.0 84.5  \n",
    "scores = input(\"Please enter scores separated by a space : \") \n",
    "\n",
    "scores = scores.split()\n",
    "\n",
    "#each element is a string, converting it to a float\n",
    "for i in range(0, len(scores)):\n",
    "    scores[i] = float(scores[i])\n",
    "    \n",
    "avg = sum(scores)/len(scores)\n",
    "\n",
    "above_avg = []\n",
    "below_avg = []\n",
    "\n",
    "# cearting two separate lists of scores that are below average and above average\n",
    "for score in scores:\n",
    "    if score >= avg:\n",
    "        above_avg.append(score)\n",
    "    else:\n",
    "        below_avg.append(score)\n",
    "    \n",
    "print(\"\\nThe list of scores is \\t\\t: \", scores)\n",
    "print(\"\\nThe total number of scores is \\t : \", len(scores), \"and their average is\", round(avg,1))\n",
    "print(\"\\nScores below average are \\t\\t : \", below_avg)\n",
    "print(\"\\nScores above or equal to average are \\t : \", above_avg)\n",
    "\n",
    "print(\"\\n\")\n",
    "print(\"-\"*75)\n",
    "print(\"Finished execution at date\", datetime.datetime.now())\n",
    "\n",
    "#doubts how to enter tab separated scores, how to format a list"
   ]
  },
  {
   "cell_type": "markdown",
   "metadata": {},
   "source": [
    "# Q2 Program\n",
    " This program creates a list of volunteers for next semester from the available lists of volunteers, seniors and next volnteers.\n",
    "New volunteers will join so they are added and seniors will leave so they will be removed. \n",
    "It also generates a random non-repeating list of 6 managers\n"
   ]
  },
  {
   "cell_type": "code",
   "execution_count": 129,
   "metadata": {},
   "outputs": [
    {
     "name": "stdout",
     "output_type": "stream",
     "text": [
      "the list of volunteers for the next semester is :  ['Alex', 'Anna', 'Anthony', 'Emanuel', 'Emma', 'James', 'Jason', 'Jennie', 'Jessica', 'Jose', 'Joshua', 'Justin2', 'Kadir', 'Kara', 'Katie', 'Katrina', 'Kayla', 'Malia', 'Mark', 'Melissa', 'Nadir', 'Nicholas', 'Rob', 'Robin', 'Sabrina', 'Samantha', 'Sania', 'Shahida', 'Simeone', 'Stephen', 'Stephene', 'Syed', 'Tabassum', 'Tabu', 'Yingzhu', 'Zubeida']\n",
      "\n",
      "The list of managers for next 6 weeks is :  ['Jose', 'Katie', 'Jose', 'Jessica', 'Rob', 'Emanuel']\n",
      "\n",
      "\n",
      "---------------------------------------------------------------------------\n",
      "Finished execution at date 2021-11-18 14:08:19.061797\n"
     ]
    }
   ],
   "source": [
    "# Q2 Program\n",
    "\n",
    "\n",
    "#importing random module to generate a random index\n",
    "import random\n",
    "\n",
    "#given lists of volunteers, seniors and new volunteers\n",
    "volunteers = [\"Rob\",\"Jason\",\"Melissa\",\"Kara\", \"Jessica\", \"Mark\", \"Anna\",\"Kayla\",\n",
    "              \"Claire\",\"James\", \"Justin\",\"Tabu\", \"Nadir\", \"Samuel\", \"Samantha\", \n",
    "              \"Stephene\", \"Joshua\",\"Shahida\", \"Janus\",\"Jennie\", \"Andrew\", \"Kadir\", \n",
    "              \"Sania\", \"Soham\", \"Jose\", \"Nicholas\", \"Anthony\", \"Emma\", \n",
    "              \"Emanuel\",\"Justin2\",\"Malia\", \"Katrina\",\"Zubeida\"]\n",
    "seniors    = [\"Claire\",\"Ishan\",\"Soham\",\"Jimmy\",\"Janus\",\"Andrew\",\"Samuel\", \"Justin\"]\n",
    "new_volunteers = [\"Syed\",\"Stephen\",\"Simeone\",\"Tabassum\",\"Yingzhu\",\"Robin\",\"Alex\", \n",
    "                  \"Katie\",\"Sabrina\"]\n",
    "\n",
    "\n",
    "#creating a new list that will store next year's volunteers\n",
    "next_volunteers = []\n",
    "for volunteer in volunteers:\n",
    "    if volunteer not in seniors:\n",
    "        next_volunteers.append(volunteer)\n",
    "next_volunteers = next_volunteers + new_volunteers\n",
    "print(\"the list of volunteers for the next semester is : \", sorted(vol))\n",
    "\n",
    "\n",
    "# Creating a copy of the list to avoid changes in next_volunteer list by mistake\n",
    "x = next_volunteers.copy()\n",
    "\n",
    "# Generating a list of 6 random managers using random library \n",
    "managers = []\n",
    "num = 6\n",
    "weeks = 0\n",
    "\n",
    "\n",
    "while weeks < num:\n",
    "    r = random.randint(0,len(x))\n",
    "    if r not in managers:\n",
    "        weeks += 1\n",
    "        managers.append(x[r])\n",
    "        \n",
    "print(\"\\nThe list of managers for next 6 weeks is : \",managers)\n",
    "\n",
    "\n",
    "print(\"\\n\")\n",
    "print(\"-\"*75)\n",
    "print(\"Finished execution at date\", datetime.datetime.now())\n",
    "\n",
    "\n",
    "\n",
    "# doubts how can be subtract two lists. what if one list contains repeating elements\n",
    "# doubts how to generate random number using random.sample(), for loop\n",
    "            \n",
    "    "
   ]
  },
  {
   "cell_type": "markdown",
   "metadata": {},
   "source": [
    "# Q3 Answer: \n",
    "This program fishes out (no pun intended) the number of whales seen every monday from a given list. \n",
    "It also diplays total whales and number of whales on mondays"
   ]
  },
  {
   "cell_type": "code",
   "execution_count": 123,
   "metadata": {
    "scrolled": true
   },
   "outputs": [
    {
     "name": "stdout",
     "output_type": "stream",
     "text": [
      "total number of whales seen is : 129 and the total whales seen on mondays is : 18\n",
      "\n",
      "\n",
      "---------------------------------------------------------------------------\n",
      "Finished execution at date 2021-11-18 14:01:44.875150\n"
     ]
    }
   ],
   "source": [
    "#Q3 Answer: \n",
    "\n",
    "\n",
    "# whales seen on successive days starting with a sunday are\n",
    "whales = [5,4,7,3,2,3,2,6,4,2,1,7,1,4,4,5,3,6,8,5,7,0,1,4,6,0,3,2,4,1,0,1,2,4,1,1,3,4,2,1]\n",
    "\n",
    "#empty list to store the number of whales seen on every Monday\n",
    "mondays = []\n",
    "\n",
    "for i in range(1, len(whales),7):\n",
    "    mondays.append(whales[i])\n",
    "mondays\n",
    "\n",
    "total_whales = sum(whales)\n",
    "whales_on_mondays = sum(mondays)\n",
    "print(\"total number of whales seen is : %d and the total whales seen on mondays is : %d\"  %(total_whales, whales_on_mondays))\n",
    "\n",
    "print(\"\\n\")\n",
    "print(\"-\"*75)\n",
    "print(\"Finished execution at date\", datetime.datetime.now())"
   ]
  },
  {
   "cell_type": "markdown",
   "metadata": {},
   "source": [
    "# Q4 Answer:\n",
    "This program creates a new list of students who score more than or equal to 95.\n",
    "Lists of student and their corresponding scores are already given. We assume they have a one-one correspondence\n"
   ]
  },
  {
   "cell_type": "code",
   "execution_count": 127,
   "metadata": {},
   "outputs": [
    {
     "name": "stdout",
     "output_type": "stream",
     "text": [
      "List of students with score equal to or greater than 95 is :  ['Mary', 'Dean', 'Monica', 'Cheng', 'Fatima']\n",
      "\n",
      "\n",
      "---------------------------------------------------------------------------\n",
      "Finished execution at date 2021-11-18 14:07:09.825001\n"
     ]
    }
   ],
   "source": [
    "#Q4 Answer:\n",
    "\n",
    "\n",
    "students = [\"Robin\",\"Emily\",\"Mary\",\"Joe\",\"Dean\",\"Claire\",\"Anne\",\"Yingzhu\",\"James\",\n",
    "            \"Monica\",\"Tess\",\"Anaya\",\"Cheng\",\"Tammy\",\"Fatima\", \"Tabu\", \"Zahir\"]\n",
    "scores  = [87, 72, 98, 93, 96, 65, 78, 83, 85, 97, 89, 65, 96, 82, 98, 89, 87]\n",
    "\n",
    "#creating an empty list that will store the relevant names\n",
    "wise_guys = []\n",
    "for i in range(0 , len(scores)):\n",
    "    if scores[i] >= 95:\n",
    "        wise_guys.append(students[i])\n",
    "print(\"List of students with score equal to or greater than 95 is : \", wise_guys)\n",
    "\n",
    "print(\"\\n\")\n",
    "print(\"-\"*75)\n",
    "print(\"Finished execution at date\", datetime.datetime.now())\n",
    "        "
   ]
  },
  {
   "cell_type": "markdown",
   "metadata": {},
   "source": [
    "# Q5 Answer:\n",
    "This programs takes mass and velocity as inputs from user and calculates kinetic energy.\n",
    "Velocity is provided in miles per hour"
   ]
  },
  {
   "cell_type": "code",
   "execution_count": 126,
   "metadata": {},
   "outputs": [
    {
     "name": "stdout",
     "output_type": "stream",
     "text": [
      "Please enter mass : 10 \n",
      "Please enter velocity in miles per hour : 30\n",
      "The kinetic energy is :  899.14 joules\n",
      "\n",
      "\n",
      "---------------------------------------------------------------------------\n",
      "Finished execution at date 2021-11-18 14:07:00.479051\n"
     ]
    }
   ],
   "source": [
    "# Q5 Answer:\n",
    "\n",
    "\n",
    "\n",
    "#Defining a function for calculating Kinetic Energy.The function accepts mass and velocity as parameters\n",
    "def kinetic_energy (m, v):\n",
    "    KE = 0.5*m*(v**2)\n",
    "    return(KE)\n",
    "\n",
    "#Asking user to input mass and velocity \n",
    "mass  = float(input(\"Please enter mass : \"))\n",
    " \n",
    "velocity_miles = float(input(\"Please enter velocity in miles per hour : \"))\n",
    "\n",
    "#converting velocity to SI units\n",
    "velocity_kms = velocity_miles*0.4470\n",
    "\n",
    "#invoking our function \n",
    "energy = kinetic_energy(mass,velocity_kms)\n",
    "print(\"The kinetic energy is : \", round(energy,2), \"joules\")\n",
    "\n",
    "print(\"\\n\")\n",
    "print(\"-\"*75)\n",
    "print(\"Finished execution at date\", datetime.datetime.now())"
   ]
  },
  {
   "cell_type": "code",
   "execution_count": null,
   "metadata": {},
   "outputs": [],
   "source": []
  }
 ],
 "metadata": {
  "kernelspec": {
   "display_name": "Python 3",
   "language": "python",
   "name": "python3"
  },
  "language_info": {
   "codemirror_mode": {
    "name": "ipython",
    "version": 3
   },
   "file_extension": ".py",
   "mimetype": "text/x-python",
   "name": "python",
   "nbconvert_exporter": "python",
   "pygments_lexer": "ipython3",
   "version": "3.8.8"
  }
 },
 "nbformat": 4,
 "nbformat_minor": 2
}
